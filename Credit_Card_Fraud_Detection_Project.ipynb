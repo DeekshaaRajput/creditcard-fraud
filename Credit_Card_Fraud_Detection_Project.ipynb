{
  "nbformat": 4,
  "nbformat_minor": 0,
  "metadata": {
    "colab": {
      "name": "Credit Card Fraud Detection Project.ipynb",
      "provenance": [],
      "include_colab_link": true
    },
    "kernelspec": {
      "name": "python3",
      "display_name": "Python 3"
    },
    "language_info": {
      "name": "python"
    }
  },
  "cells": [
    {
      "cell_type": "markdown",
      "metadata": {
        "id": "view-in-github",
        "colab_type": "text"
      },
      "source": [
        "<a href=\"https://colab.research.google.com/github/DeekshaaRajput/creditcard-fraud/blob/main/Credit_Card_Fraud_Detection_Project.ipynb\" target=\"_parent\"><img src=\"https://colab.research.google.com/assets/colab-badge.svg\" alt=\"Open In Colab\"/></a>"
      ]
    },
    {
      "cell_type": "markdown",
      "metadata": {
        "id": "pOHYzNZVijs6"
      },
      "source": [
        ""
      ]
    },
    {
      "cell_type": "code",
      "metadata": {
        "id": "wA6PNoG8WQnO"
      },
      "source": [
        "import pandas as pd\n",
        "import numpy as np\n",
        "from sklearn.model_selection import train_test_split\n",
        "from sklearn.linear_model import LogisticRegression\n",
        "\n",
        "import sklearn.metrics as metrics"
      ],
      "execution_count": null,
      "outputs": []
    },
    {
      "cell_type": "code",
      "metadata": {
        "colab": {
          "base_uri": "https://localhost:8080/",
          "height": 226
        },
        "id": "dNG2r6wMmDJr",
        "outputId": "a15d3eb8-090d-49d3-e13a-055e57c05fc8"
      },
      "source": [
        "cc_data= pd.read_csv(\"/content/drive/MyDrive/creditcard.csv\")\n",
        "cc_data.head()"
      ],
      "execution_count": null,
      "outputs": [
        {
          "output_type": "execute_result",
          "data": {
            "text/html": [
              "<div>\n",
              "<style scoped>\n",
              "    .dataframe tbody tr th:only-of-type {\n",
              "        vertical-align: middle;\n",
              "    }\n",
              "\n",
              "    .dataframe tbody tr th {\n",
              "        vertical-align: top;\n",
              "    }\n",
              "\n",
              "    .dataframe thead th {\n",
              "        text-align: right;\n",
              "    }\n",
              "</style>\n",
              "<table border=\"1\" class=\"dataframe\">\n",
              "  <thead>\n",
              "    <tr style=\"text-align: right;\">\n",
              "      <th></th>\n",
              "      <th>Time</th>\n",
              "      <th>V1</th>\n",
              "      <th>V2</th>\n",
              "      <th>V3</th>\n",
              "      <th>V4</th>\n",
              "      <th>V5</th>\n",
              "      <th>V6</th>\n",
              "      <th>V7</th>\n",
              "      <th>V8</th>\n",
              "      <th>V9</th>\n",
              "      <th>V10</th>\n",
              "      <th>V11</th>\n",
              "      <th>V12</th>\n",
              "      <th>V13</th>\n",
              "      <th>V14</th>\n",
              "      <th>V15</th>\n",
              "      <th>V16</th>\n",
              "      <th>V17</th>\n",
              "      <th>V18</th>\n",
              "      <th>V19</th>\n",
              "      <th>V20</th>\n",
              "      <th>V21</th>\n",
              "      <th>V22</th>\n",
              "      <th>V23</th>\n",
              "      <th>V24</th>\n",
              "      <th>V25</th>\n",
              "      <th>V26</th>\n",
              "      <th>V27</th>\n",
              "      <th>V28</th>\n",
              "      <th>Amount</th>\n",
              "      <th>Class</th>\n",
              "    </tr>\n",
              "  </thead>\n",
              "  <tbody>\n",
              "    <tr>\n",
              "      <th>0</th>\n",
              "      <td>0.0</td>\n",
              "      <td>-1.359807</td>\n",
              "      <td>-0.072781</td>\n",
              "      <td>2.536347</td>\n",
              "      <td>1.378155</td>\n",
              "      <td>-0.338321</td>\n",
              "      <td>0.462388</td>\n",
              "      <td>0.239599</td>\n",
              "      <td>0.098698</td>\n",
              "      <td>0.363787</td>\n",
              "      <td>0.090794</td>\n",
              "      <td>-0.551600</td>\n",
              "      <td>-0.617801</td>\n",
              "      <td>-0.991390</td>\n",
              "      <td>-0.311169</td>\n",
              "      <td>1.468177</td>\n",
              "      <td>-0.470401</td>\n",
              "      <td>0.207971</td>\n",
              "      <td>0.025791</td>\n",
              "      <td>0.403993</td>\n",
              "      <td>0.251412</td>\n",
              "      <td>-0.018307</td>\n",
              "      <td>0.277838</td>\n",
              "      <td>-0.110474</td>\n",
              "      <td>0.066928</td>\n",
              "      <td>0.128539</td>\n",
              "      <td>-0.189115</td>\n",
              "      <td>0.133558</td>\n",
              "      <td>-0.021053</td>\n",
              "      <td>149.62</td>\n",
              "      <td>0</td>\n",
              "    </tr>\n",
              "    <tr>\n",
              "      <th>1</th>\n",
              "      <td>0.0</td>\n",
              "      <td>1.191857</td>\n",
              "      <td>0.266151</td>\n",
              "      <td>0.166480</td>\n",
              "      <td>0.448154</td>\n",
              "      <td>0.060018</td>\n",
              "      <td>-0.082361</td>\n",
              "      <td>-0.078803</td>\n",
              "      <td>0.085102</td>\n",
              "      <td>-0.255425</td>\n",
              "      <td>-0.166974</td>\n",
              "      <td>1.612727</td>\n",
              "      <td>1.065235</td>\n",
              "      <td>0.489095</td>\n",
              "      <td>-0.143772</td>\n",
              "      <td>0.635558</td>\n",
              "      <td>0.463917</td>\n",
              "      <td>-0.114805</td>\n",
              "      <td>-0.183361</td>\n",
              "      <td>-0.145783</td>\n",
              "      <td>-0.069083</td>\n",
              "      <td>-0.225775</td>\n",
              "      <td>-0.638672</td>\n",
              "      <td>0.101288</td>\n",
              "      <td>-0.339846</td>\n",
              "      <td>0.167170</td>\n",
              "      <td>0.125895</td>\n",
              "      <td>-0.008983</td>\n",
              "      <td>0.014724</td>\n",
              "      <td>2.69</td>\n",
              "      <td>0</td>\n",
              "    </tr>\n",
              "    <tr>\n",
              "      <th>2</th>\n",
              "      <td>1.0</td>\n",
              "      <td>-1.358354</td>\n",
              "      <td>-1.340163</td>\n",
              "      <td>1.773209</td>\n",
              "      <td>0.379780</td>\n",
              "      <td>-0.503198</td>\n",
              "      <td>1.800499</td>\n",
              "      <td>0.791461</td>\n",
              "      <td>0.247676</td>\n",
              "      <td>-1.514654</td>\n",
              "      <td>0.207643</td>\n",
              "      <td>0.624501</td>\n",
              "      <td>0.066084</td>\n",
              "      <td>0.717293</td>\n",
              "      <td>-0.165946</td>\n",
              "      <td>2.345865</td>\n",
              "      <td>-2.890083</td>\n",
              "      <td>1.109969</td>\n",
              "      <td>-0.121359</td>\n",
              "      <td>-2.261857</td>\n",
              "      <td>0.524980</td>\n",
              "      <td>0.247998</td>\n",
              "      <td>0.771679</td>\n",
              "      <td>0.909412</td>\n",
              "      <td>-0.689281</td>\n",
              "      <td>-0.327642</td>\n",
              "      <td>-0.139097</td>\n",
              "      <td>-0.055353</td>\n",
              "      <td>-0.059752</td>\n",
              "      <td>378.66</td>\n",
              "      <td>0</td>\n",
              "    </tr>\n",
              "    <tr>\n",
              "      <th>3</th>\n",
              "      <td>1.0</td>\n",
              "      <td>-0.966272</td>\n",
              "      <td>-0.185226</td>\n",
              "      <td>1.792993</td>\n",
              "      <td>-0.863291</td>\n",
              "      <td>-0.010309</td>\n",
              "      <td>1.247203</td>\n",
              "      <td>0.237609</td>\n",
              "      <td>0.377436</td>\n",
              "      <td>-1.387024</td>\n",
              "      <td>-0.054952</td>\n",
              "      <td>-0.226487</td>\n",
              "      <td>0.178228</td>\n",
              "      <td>0.507757</td>\n",
              "      <td>-0.287924</td>\n",
              "      <td>-0.631418</td>\n",
              "      <td>-1.059647</td>\n",
              "      <td>-0.684093</td>\n",
              "      <td>1.965775</td>\n",
              "      <td>-1.232622</td>\n",
              "      <td>-0.208038</td>\n",
              "      <td>-0.108300</td>\n",
              "      <td>0.005274</td>\n",
              "      <td>-0.190321</td>\n",
              "      <td>-1.175575</td>\n",
              "      <td>0.647376</td>\n",
              "      <td>-0.221929</td>\n",
              "      <td>0.062723</td>\n",
              "      <td>0.061458</td>\n",
              "      <td>123.50</td>\n",
              "      <td>0</td>\n",
              "    </tr>\n",
              "    <tr>\n",
              "      <th>4</th>\n",
              "      <td>2.0</td>\n",
              "      <td>-1.158233</td>\n",
              "      <td>0.877737</td>\n",
              "      <td>1.548718</td>\n",
              "      <td>0.403034</td>\n",
              "      <td>-0.407193</td>\n",
              "      <td>0.095921</td>\n",
              "      <td>0.592941</td>\n",
              "      <td>-0.270533</td>\n",
              "      <td>0.817739</td>\n",
              "      <td>0.753074</td>\n",
              "      <td>-0.822843</td>\n",
              "      <td>0.538196</td>\n",
              "      <td>1.345852</td>\n",
              "      <td>-1.119670</td>\n",
              "      <td>0.175121</td>\n",
              "      <td>-0.451449</td>\n",
              "      <td>-0.237033</td>\n",
              "      <td>-0.038195</td>\n",
              "      <td>0.803487</td>\n",
              "      <td>0.408542</td>\n",
              "      <td>-0.009431</td>\n",
              "      <td>0.798278</td>\n",
              "      <td>-0.137458</td>\n",
              "      <td>0.141267</td>\n",
              "      <td>-0.206010</td>\n",
              "      <td>0.502292</td>\n",
              "      <td>0.219422</td>\n",
              "      <td>0.215153</td>\n",
              "      <td>69.99</td>\n",
              "      <td>0</td>\n",
              "    </tr>\n",
              "  </tbody>\n",
              "</table>\n",
              "</div>"
            ],
            "text/plain": [
              "   Time        V1        V2        V3  ...       V27       V28  Amount  Class\n",
              "0   0.0 -1.359807 -0.072781  2.536347  ...  0.133558 -0.021053  149.62      0\n",
              "1   0.0  1.191857  0.266151  0.166480  ... -0.008983  0.014724    2.69      0\n",
              "2   1.0 -1.358354 -1.340163  1.773209  ... -0.055353 -0.059752  378.66      0\n",
              "3   1.0 -0.966272 -0.185226  1.792993  ...  0.062723  0.061458  123.50      0\n",
              "4   2.0 -1.158233  0.877737  1.548718  ...  0.219422  0.215153   69.99      0\n",
              "\n",
              "[5 rows x 31 columns]"
            ]
          },
          "metadata": {},
          "execution_count": 4
        }
      ]
    },
    {
      "cell_type": "code",
      "metadata": {
        "colab": {
          "base_uri": "https://localhost:8080/",
          "height": 226
        },
        "id": "AERIaGCa7S2M",
        "outputId": "6c29a4d5-e943-4d25-f81f-57cf9cda6e16"
      },
      "source": [
        "cc_data.tail()"
      ],
      "execution_count": null,
      "outputs": [
        {
          "output_type": "execute_result",
          "data": {
            "text/html": [
              "<div>\n",
              "<style scoped>\n",
              "    .dataframe tbody tr th:only-of-type {\n",
              "        vertical-align: middle;\n",
              "    }\n",
              "\n",
              "    .dataframe tbody tr th {\n",
              "        vertical-align: top;\n",
              "    }\n",
              "\n",
              "    .dataframe thead th {\n",
              "        text-align: right;\n",
              "    }\n",
              "</style>\n",
              "<table border=\"1\" class=\"dataframe\">\n",
              "  <thead>\n",
              "    <tr style=\"text-align: right;\">\n",
              "      <th></th>\n",
              "      <th>Time</th>\n",
              "      <th>V1</th>\n",
              "      <th>V2</th>\n",
              "      <th>V3</th>\n",
              "      <th>V4</th>\n",
              "      <th>V5</th>\n",
              "      <th>V6</th>\n",
              "      <th>V7</th>\n",
              "      <th>V8</th>\n",
              "      <th>V9</th>\n",
              "      <th>V10</th>\n",
              "      <th>V11</th>\n",
              "      <th>V12</th>\n",
              "      <th>V13</th>\n",
              "      <th>V14</th>\n",
              "      <th>V15</th>\n",
              "      <th>V16</th>\n",
              "      <th>V17</th>\n",
              "      <th>V18</th>\n",
              "      <th>V19</th>\n",
              "      <th>V20</th>\n",
              "      <th>V21</th>\n",
              "      <th>V22</th>\n",
              "      <th>V23</th>\n",
              "      <th>V24</th>\n",
              "      <th>V25</th>\n",
              "      <th>V26</th>\n",
              "      <th>V27</th>\n",
              "      <th>V28</th>\n",
              "      <th>Amount</th>\n",
              "      <th>Class</th>\n",
              "    </tr>\n",
              "  </thead>\n",
              "  <tbody>\n",
              "    <tr>\n",
              "      <th>284802</th>\n",
              "      <td>172786.0</td>\n",
              "      <td>-11.881118</td>\n",
              "      <td>10.071785</td>\n",
              "      <td>-9.834783</td>\n",
              "      <td>-2.066656</td>\n",
              "      <td>-5.364473</td>\n",
              "      <td>-2.606837</td>\n",
              "      <td>-4.918215</td>\n",
              "      <td>7.305334</td>\n",
              "      <td>1.914428</td>\n",
              "      <td>4.356170</td>\n",
              "      <td>-1.593105</td>\n",
              "      <td>2.711941</td>\n",
              "      <td>-0.689256</td>\n",
              "      <td>4.626942</td>\n",
              "      <td>-0.924459</td>\n",
              "      <td>1.107641</td>\n",
              "      <td>1.991691</td>\n",
              "      <td>0.510632</td>\n",
              "      <td>-0.682920</td>\n",
              "      <td>1.475829</td>\n",
              "      <td>0.213454</td>\n",
              "      <td>0.111864</td>\n",
              "      <td>1.014480</td>\n",
              "      <td>-0.509348</td>\n",
              "      <td>1.436807</td>\n",
              "      <td>0.250034</td>\n",
              "      <td>0.943651</td>\n",
              "      <td>0.823731</td>\n",
              "      <td>0.77</td>\n",
              "      <td>0</td>\n",
              "    </tr>\n",
              "    <tr>\n",
              "      <th>284803</th>\n",
              "      <td>172787.0</td>\n",
              "      <td>-0.732789</td>\n",
              "      <td>-0.055080</td>\n",
              "      <td>2.035030</td>\n",
              "      <td>-0.738589</td>\n",
              "      <td>0.868229</td>\n",
              "      <td>1.058415</td>\n",
              "      <td>0.024330</td>\n",
              "      <td>0.294869</td>\n",
              "      <td>0.584800</td>\n",
              "      <td>-0.975926</td>\n",
              "      <td>-0.150189</td>\n",
              "      <td>0.915802</td>\n",
              "      <td>1.214756</td>\n",
              "      <td>-0.675143</td>\n",
              "      <td>1.164931</td>\n",
              "      <td>-0.711757</td>\n",
              "      <td>-0.025693</td>\n",
              "      <td>-1.221179</td>\n",
              "      <td>-1.545556</td>\n",
              "      <td>0.059616</td>\n",
              "      <td>0.214205</td>\n",
              "      <td>0.924384</td>\n",
              "      <td>0.012463</td>\n",
              "      <td>-1.016226</td>\n",
              "      <td>-0.606624</td>\n",
              "      <td>-0.395255</td>\n",
              "      <td>0.068472</td>\n",
              "      <td>-0.053527</td>\n",
              "      <td>24.79</td>\n",
              "      <td>0</td>\n",
              "    </tr>\n",
              "    <tr>\n",
              "      <th>284804</th>\n",
              "      <td>172788.0</td>\n",
              "      <td>1.919565</td>\n",
              "      <td>-0.301254</td>\n",
              "      <td>-3.249640</td>\n",
              "      <td>-0.557828</td>\n",
              "      <td>2.630515</td>\n",
              "      <td>3.031260</td>\n",
              "      <td>-0.296827</td>\n",
              "      <td>0.708417</td>\n",
              "      <td>0.432454</td>\n",
              "      <td>-0.484782</td>\n",
              "      <td>0.411614</td>\n",
              "      <td>0.063119</td>\n",
              "      <td>-0.183699</td>\n",
              "      <td>-0.510602</td>\n",
              "      <td>1.329284</td>\n",
              "      <td>0.140716</td>\n",
              "      <td>0.313502</td>\n",
              "      <td>0.395652</td>\n",
              "      <td>-0.577252</td>\n",
              "      <td>0.001396</td>\n",
              "      <td>0.232045</td>\n",
              "      <td>0.578229</td>\n",
              "      <td>-0.037501</td>\n",
              "      <td>0.640134</td>\n",
              "      <td>0.265745</td>\n",
              "      <td>-0.087371</td>\n",
              "      <td>0.004455</td>\n",
              "      <td>-0.026561</td>\n",
              "      <td>67.88</td>\n",
              "      <td>0</td>\n",
              "    </tr>\n",
              "    <tr>\n",
              "      <th>284805</th>\n",
              "      <td>172788.0</td>\n",
              "      <td>-0.240440</td>\n",
              "      <td>0.530483</td>\n",
              "      <td>0.702510</td>\n",
              "      <td>0.689799</td>\n",
              "      <td>-0.377961</td>\n",
              "      <td>0.623708</td>\n",
              "      <td>-0.686180</td>\n",
              "      <td>0.679145</td>\n",
              "      <td>0.392087</td>\n",
              "      <td>-0.399126</td>\n",
              "      <td>-1.933849</td>\n",
              "      <td>-0.962886</td>\n",
              "      <td>-1.042082</td>\n",
              "      <td>0.449624</td>\n",
              "      <td>1.962563</td>\n",
              "      <td>-0.608577</td>\n",
              "      <td>0.509928</td>\n",
              "      <td>1.113981</td>\n",
              "      <td>2.897849</td>\n",
              "      <td>0.127434</td>\n",
              "      <td>0.265245</td>\n",
              "      <td>0.800049</td>\n",
              "      <td>-0.163298</td>\n",
              "      <td>0.123205</td>\n",
              "      <td>-0.569159</td>\n",
              "      <td>0.546668</td>\n",
              "      <td>0.108821</td>\n",
              "      <td>0.104533</td>\n",
              "      <td>10.00</td>\n",
              "      <td>0</td>\n",
              "    </tr>\n",
              "    <tr>\n",
              "      <th>284806</th>\n",
              "      <td>172792.0</td>\n",
              "      <td>-0.533413</td>\n",
              "      <td>-0.189733</td>\n",
              "      <td>0.703337</td>\n",
              "      <td>-0.506271</td>\n",
              "      <td>-0.012546</td>\n",
              "      <td>-0.649617</td>\n",
              "      <td>1.577006</td>\n",
              "      <td>-0.414650</td>\n",
              "      <td>0.486180</td>\n",
              "      <td>-0.915427</td>\n",
              "      <td>-1.040458</td>\n",
              "      <td>-0.031513</td>\n",
              "      <td>-0.188093</td>\n",
              "      <td>-0.084316</td>\n",
              "      <td>0.041333</td>\n",
              "      <td>-0.302620</td>\n",
              "      <td>-0.660377</td>\n",
              "      <td>0.167430</td>\n",
              "      <td>-0.256117</td>\n",
              "      <td>0.382948</td>\n",
              "      <td>0.261057</td>\n",
              "      <td>0.643078</td>\n",
              "      <td>0.376777</td>\n",
              "      <td>0.008797</td>\n",
              "      <td>-0.473649</td>\n",
              "      <td>-0.818267</td>\n",
              "      <td>-0.002415</td>\n",
              "      <td>0.013649</td>\n",
              "      <td>217.00</td>\n",
              "      <td>0</td>\n",
              "    </tr>\n",
              "  </tbody>\n",
              "</table>\n",
              "</div>"
            ],
            "text/plain": [
              "            Time         V1         V2  ...       V28  Amount  Class\n",
              "284802  172786.0 -11.881118  10.071785  ...  0.823731    0.77      0\n",
              "284803  172787.0  -0.732789  -0.055080  ... -0.053527   24.79      0\n",
              "284804  172788.0   1.919565  -0.301254  ... -0.026561   67.88      0\n",
              "284805  172788.0  -0.240440   0.530483  ...  0.104533   10.00      0\n",
              "284806  172792.0  -0.533413  -0.189733  ...  0.013649  217.00      0\n",
              "\n",
              "[5 rows x 31 columns]"
            ]
          },
          "metadata": {},
          "execution_count": 5
        }
      ]
    },
    {
      "cell_type": "code",
      "metadata": {
        "colab": {
          "base_uri": "https://localhost:8080/"
        },
        "id": "Li02_Xl09MKi",
        "outputId": "55ef50d8-4cd1-4e0a-8b2c-9a7fb14e4560"
      },
      "source": [
        "cc_data.info()     # dataset informations"
      ],
      "execution_count": null,
      "outputs": [
        {
          "output_type": "stream",
          "name": "stdout",
          "text": [
            "<class 'pandas.core.frame.DataFrame'>\n",
            "RangeIndex: 284807 entries, 0 to 284806\n",
            "Data columns (total 31 columns):\n",
            " #   Column  Non-Null Count   Dtype  \n",
            "---  ------  --------------   -----  \n",
            " 0   Time    284807 non-null  float64\n",
            " 1   V1      284807 non-null  float64\n",
            " 2   V2      284807 non-null  float64\n",
            " 3   V3      284807 non-null  float64\n",
            " 4   V4      284807 non-null  float64\n",
            " 5   V5      284807 non-null  float64\n",
            " 6   V6      284807 non-null  float64\n",
            " 7   V7      284807 non-null  float64\n",
            " 8   V8      284807 non-null  float64\n",
            " 9   V9      284807 non-null  float64\n",
            " 10  V10     284807 non-null  float64\n",
            " 11  V11     284807 non-null  float64\n",
            " 12  V12     284807 non-null  float64\n",
            " 13  V13     284807 non-null  float64\n",
            " 14  V14     284807 non-null  float64\n",
            " 15  V15     284807 non-null  float64\n",
            " 16  V16     284807 non-null  float64\n",
            " 17  V17     284807 non-null  float64\n",
            " 18  V18     284807 non-null  float64\n",
            " 19  V19     284807 non-null  float64\n",
            " 20  V20     284807 non-null  float64\n",
            " 21  V21     284807 non-null  float64\n",
            " 22  V22     284807 non-null  float64\n",
            " 23  V23     284807 non-null  float64\n",
            " 24  V24     284807 non-null  float64\n",
            " 25  V25     284807 non-null  float64\n",
            " 26  V26     284807 non-null  float64\n",
            " 27  V27     284807 non-null  float64\n",
            " 28  V28     284807 non-null  float64\n",
            " 29  Amount  284807 non-null  float64\n",
            " 30  Class   284807 non-null  int64  \n",
            "dtypes: float64(30), int64(1)\n",
            "memory usage: 67.4 MB\n"
          ]
        }
      ]
    },
    {
      "cell_type": "code",
      "metadata": {
        "colab": {
          "base_uri": "https://localhost:8080/"
        },
        "id": "HJG_PMYE9SIZ",
        "outputId": "0415c7b4-1bc4-46c5-9f23-eb222ecc0dfe"
      },
      "source": [
        "cc_data.isnull().sum()   # checking the number of missing values in each column"
      ],
      "execution_count": null,
      "outputs": [
        {
          "output_type": "execute_result",
          "data": {
            "text/plain": [
              "Time      0\n",
              "V1        0\n",
              "V2        0\n",
              "V3        0\n",
              "V4        0\n",
              "V5        0\n",
              "V6        0\n",
              "V7        0\n",
              "V8        0\n",
              "V9        0\n",
              "V10       0\n",
              "V11       0\n",
              "V12       0\n",
              "V13       0\n",
              "V14       0\n",
              "V15       0\n",
              "V16       0\n",
              "V17       0\n",
              "V18       0\n",
              "V19       0\n",
              "V20       0\n",
              "V21       0\n",
              "V22       0\n",
              "V23       0\n",
              "V24       0\n",
              "V25       0\n",
              "V26       0\n",
              "V27       0\n",
              "V28       0\n",
              "Amount    0\n",
              "Class     0\n",
              "dtype: int64"
            ]
          },
          "metadata": {},
          "execution_count": 7
        }
      ]
    },
    {
      "cell_type": "code",
      "metadata": {
        "colab": {
          "base_uri": "https://localhost:8080/"
        },
        "id": "2o04yudeJYNH",
        "outputId": "cd47213e-b2de-457a-a8b2-f5e58205422b"
      },
      "source": [
        "cc_data['Class'].value_counts()        # distribution of legit transactions & fraudulent transactions"
      ],
      "execution_count": null,
      "outputs": [
        {
          "output_type": "execute_result",
          "data": {
            "text/plain": [
              "0    284315\n",
              "1       492\n",
              "Name: Class, dtype: int64"
            ]
          },
          "metadata": {},
          "execution_count": 8
        }
      ]
    },
    {
      "cell_type": "code",
      "metadata": {
        "id": "EPPvF8vaMNEV"
      },
      "source": [
        "\n",
        "legit = cc_data[cc_data.Class == 0]          # separating the data for analysis\n",
        "fraud = cc_data[cc_data.Class == 1]"
      ],
      "execution_count": null,
      "outputs": []
    },
    {
      "cell_type": "code",
      "metadata": {
        "colab": {
          "base_uri": "https://localhost:8080/"
        },
        "id": "WzDkjM9vMa5j",
        "outputId": "6a186380-bf0d-447f-a492-0be705bb0fb1"
      },
      "source": [
        "print(legit.shape)\n",
        "print(fraud.shape)"
      ],
      "execution_count": null,
      "outputs": [
        {
          "output_type": "stream",
          "name": "stdout",
          "text": [
            "(284315, 31)\n",
            "(492, 31)\n"
          ]
        }
      ]
    },
    {
      "cell_type": "code",
      "source": [
        "import matplotlib.pyplot as plt\n",
        "plt.figure(figsize=(7,7))\n",
        "labels=['legit', 'fraud']\n",
        "plt.pie(cc_data['Class'].value_counts(),labels= labels)"
      ],
      "metadata": {
        "colab": {
          "base_uri": "https://localhost:8080/",
          "height": 481
        },
        "id": "Xv4xS_rCzc_a",
        "outputId": "616c914b-f040-4fb6-dcc7-177659ee8206"
      },
      "execution_count": null,
      "outputs": [
        {
          "output_type": "execute_result",
          "data": {
            "text/plain": [
              "([<matplotlib.patches.Wedge at 0x7f588a85ba10>,\n",
              "  <matplotlib.patches.Wedge at 0x7f588a85be90>],\n",
              " [Text(-1.09998380137016, 0.0059696501784341355, 'legit'),\n",
              "  Text(1.0999838018177286, -0.005969567707642625, 'fraud')])"
            ]
          },
          "metadata": {},
          "execution_count": 11
        },
        {
          "output_type": "display_data",
          "data": {
            "image/png": "[encoded data removed]",
            "text/plain": [
              "<Figure size 504x504 with 1 Axes>"
            ]
          },
          "metadata": {}
        }
      ]
    },
    {
      "cell_type": "code",
      "metadata": {
        "colab": {
          "base_uri": "https://localhost:8080/"
        },
        "id": "DmP-Lq_cMgY0",
        "outputId": "e9bf4e7f-6aaa-4a14-a72b-aa2dfe61ba78"
      },
      "source": [
        "legit.Amount.describe()      # statistical measures of the data"
      ],
      "execution_count": null,
      "outputs": [
        {
          "output_type": "execute_result",
          "data": {
            "text/plain": [
              "count    284315.000000\n",
              "mean         88.291022\n",
              "std         250.105092\n",
              "min           0.000000\n",
              "25%           5.650000\n",
              "50%          22.000000\n",
              "75%          77.050000\n",
              "max       25691.160000\n",
              "Name: Amount, dtype: float64"
            ]
          },
          "metadata": {},
          "execution_count": 12
        }
      ]
    },
    {
      "cell_type": "code",
      "source": [
        "plt.figure(figsize=(7,7))\n",
        "legit.Amount.describe().plot.bar(rot=15, title=\"Stats of legitimate transactions\");\n",
        "plt.show(block=True);"
      ],
      "metadata": {
        "colab": {
          "base_uri": "https://localhost:8080/"
        },
        "id": "GRBHHqqW0R3S",
        "outputId": "803e2ad8-adbe-4d53-9b8f-a8cf8d4899f6"
      },
      "execution_count": null,
      "outputs": [
        {
          "output_type": "display_data",
          "data": {
            "image/png": "[encoded data removed]",
            "text/plain": [
              "<Figure size 504x504 with 1 Axes>"
            ]
          },
          "metadata": {
            "needs_background": "light"
          }
        }
      ]
    },
    {
      "cell_type": "code",
      "metadata": {
        "colab": {
          "base_uri": "https://localhost:8080/"
        },
        "id": "VsAj1rihNqMP",
        "outputId": "ca4f6bc8-1a10-4211-afba-48f61b10f6a9"
      },
      "source": [
        "fraud.Amount.describe()       # statistical measures of the data"
      ],
      "execution_count": null,
      "outputs": [
        {
          "output_type": "execute_result",
          "data": {
            "text/plain": [
              "count     492.000000\n",
              "mean      122.211321\n",
              "std       256.683288\n",
              "min         0.000000\n",
              "25%         1.000000\n",
              "50%         9.250000\n",
              "75%       105.890000\n",
              "max      2125.870000\n",
              "Name: Amount, dtype: float64"
            ]
          },
          "metadata": {},
          "execution_count": 14
        }
      ]
    },
    {
      "cell_type": "code",
      "source": [
        "plt.figure(figsize=(7,7))\n",
        "fraud.Amount.describe().plot.bar(rot=15, title=\"Stats of fraudulent transactions\");\n",
        "plt.show(block=True);"
      ],
      "metadata": {
        "colab": {
          "base_uri": "https://localhost:8080/",
          "height": 451
        },
        "id": "y-l4GGza0d_f",
        "outputId": "e2e70013-04d1-4184-c1ef-957e6438f083"
      },
      "execution_count": null,
      "outputs": [
        {
          "output_type": "display_data",
          "data": {
            "image/png": "[encoded data removed]",
            "text/plain": [
              "<Figure size 504x504 with 1 Axes>"
            ]
          },
          "metadata": {
            "needs_background": "light"
          }
        }
      ]
    },
    {
      "cell_type": "code",
      "metadata": {
        "colab": {
          "base_uri": "https://localhost:8080/",
          "height": 163
        },
        "id": "rHggnOLfN3YO",
        "outputId": "2c869c33-bb75-451b-c782-ef66046dff4f"
      },
      "source": [
        "cc_data.groupby('Class').mean()   # compare the values for both transactions"
      ],
      "execution_count": null,
      "outputs": [
        {
          "output_type": "execute_result",
          "data": {
            "text/html": [
              "<div>\n",
              "<style scoped>\n",
              "    .dataframe tbody tr th:only-of-type {\n",
              "        vertical-align: middle;\n",
              "    }\n",
              "\n",
              "    .dataframe tbody tr th {\n",
              "        vertical-align: top;\n",
              "    }\n",
              "\n",
              "    .dataframe thead th {\n",
              "        text-align: right;\n",
              "    }\n",
              "</style>\n",
              "<table border=\"1\" class=\"dataframe\">\n",
              "  <thead>\n",
              "    <tr style=\"text-align: right;\">\n",
              "      <th></th>\n",
              "      <th>Time</th>\n",
              "      <th>V1</th>\n",
              "      <th>V2</th>\n",
              "      <th>V3</th>\n",
              "      <th>V4</th>\n",
              "      <th>V5</th>\n",
              "      <th>V6</th>\n",
              "      <th>V7</th>\n",
              "      <th>V8</th>\n",
              "      <th>V9</th>\n",
              "      <th>V10</th>\n",
              "      <th>V11</th>\n",
              "      <th>V12</th>\n",
              "      <th>V13</th>\n",
              "      <th>V14</th>\n",
              "      <th>V15</th>\n",
              "      <th>V16</th>\n",
              "      <th>V17</th>\n",
              "      <th>V18</th>\n",
              "      <th>V19</th>\n",
              "      <th>V20</th>\n",
              "      <th>V21</th>\n",
              "      <th>V22</th>\n",
              "      <th>V23</th>\n",
              "      <th>V24</th>\n",
              "      <th>V25</th>\n",
              "      <th>V26</th>\n",
              "      <th>V27</th>\n",
              "      <th>V28</th>\n",
              "      <th>Amount</th>\n",
              "    </tr>\n",
              "    <tr>\n",
              "      <th>Class</th>\n",
              "      <th></th>\n",
              "      <th></th>\n",
              "      <th></th>\n",
              "      <th></th>\n",
              "      <th></th>\n",
              "      <th></th>\n",
              "      <th></th>\n",
              "      <th></th>\n",
              "      <th></th>\n",
              "      <th></th>\n",
              "      <th></th>\n",
              "      <th></th>\n",
              "      <th></th>\n",
              "      <th></th>\n",
              "      <th></th>\n",
              "      <th></th>\n",
              "      <th></th>\n",
              "      <th></th>\n",
              "      <th></th>\n",
              "      <th></th>\n",
              "      <th></th>\n",
              "      <th></th>\n",
              "      <th></th>\n",
              "      <th></th>\n",
              "      <th></th>\n",
              "      <th></th>\n",
              "      <th></th>\n",
              "      <th></th>\n",
              "      <th></th>\n",
              "      <th></th>\n",
              "    </tr>\n",
              "  </thead>\n",
              "  <tbody>\n",
              "    <tr>\n",
              "      <th>0</th>\n",
              "      <td>94838.202258</td>\n",
              "      <td>0.008258</td>\n",
              "      <td>-0.006271</td>\n",
              "      <td>0.012171</td>\n",
              "      <td>-0.007860</td>\n",
              "      <td>0.005453</td>\n",
              "      <td>0.002419</td>\n",
              "      <td>0.009637</td>\n",
              "      <td>-0.000987</td>\n",
              "      <td>0.004467</td>\n",
              "      <td>0.009824</td>\n",
              "      <td>-0.006576</td>\n",
              "      <td>0.010832</td>\n",
              "      <td>0.000189</td>\n",
              "      <td>0.012064</td>\n",
              "      <td>0.000161</td>\n",
              "      <td>0.007164</td>\n",
              "      <td>0.011535</td>\n",
              "      <td>0.003887</td>\n",
              "      <td>-0.001178</td>\n",
              "      <td>-0.000644</td>\n",
              "      <td>-0.001235</td>\n",
              "      <td>-0.000024</td>\n",
              "      <td>0.000070</td>\n",
              "      <td>0.000182</td>\n",
              "      <td>-0.000072</td>\n",
              "      <td>-0.000089</td>\n",
              "      <td>-0.000295</td>\n",
              "      <td>-0.000131</td>\n",
              "      <td>88.291022</td>\n",
              "    </tr>\n",
              "    <tr>\n",
              "      <th>1</th>\n",
              "      <td>80746.806911</td>\n",
              "      <td>-4.771948</td>\n",
              "      <td>3.623778</td>\n",
              "      <td>-7.033281</td>\n",
              "      <td>4.542029</td>\n",
              "      <td>-3.151225</td>\n",
              "      <td>-1.397737</td>\n",
              "      <td>-5.568731</td>\n",
              "      <td>0.570636</td>\n",
              "      <td>-2.581123</td>\n",
              "      <td>-5.676883</td>\n",
              "      <td>3.800173</td>\n",
              "      <td>-6.259393</td>\n",
              "      <td>-0.109334</td>\n",
              "      <td>-6.971723</td>\n",
              "      <td>-0.092929</td>\n",
              "      <td>-4.139946</td>\n",
              "      <td>-6.665836</td>\n",
              "      <td>-2.246308</td>\n",
              "      <td>0.680659</td>\n",
              "      <td>0.372319</td>\n",
              "      <td>0.713588</td>\n",
              "      <td>0.014049</td>\n",
              "      <td>-0.040308</td>\n",
              "      <td>-0.105130</td>\n",
              "      <td>0.041449</td>\n",
              "      <td>0.051648</td>\n",
              "      <td>0.170575</td>\n",
              "      <td>0.075667</td>\n",
              "      <td>122.211321</td>\n",
              "    </tr>\n",
              "  </tbody>\n",
              "</table>\n",
              "</div>"
            ],
            "text/plain": [
              "               Time        V1        V2  ...       V27       V28      Amount\n",
              "Class                                    ...                                \n",
              "0      94838.202258  0.008258 -0.006271  ... -0.000295 -0.000131   88.291022\n",
              "1      80746.806911 -4.771948  3.623778  ...  0.170575  0.075667  122.211321\n",
              "\n",
              "[2 rows x 30 columns]"
            ]
          },
          "metadata": {},
          "execution_count": 16
        }
      ]
    },
    {
      "cell_type": "markdown",
      "metadata": {
        "id": "n6LFDK5ViNpN"
      },
      "source": [
        "**Pre-Processing** (Under-sampling)"
      ]
    },
    {
      "cell_type": "code",
      "metadata": {
        "colab": {
          "base_uri": "https://localhost:8080/",
          "height": 226
        },
        "id": "hA2dWBA8a0zy",
        "outputId": "75386d83-3ddc-488e-a73a-3107f51629d8"
      },
      "source": [
        "legit_sample = legit.sample(n=492)       #Under-Sampling\n",
        "new_dataset = pd.concat([legit_sample, fraud], axis=0)  #Concatenating two DataFrames\n",
        "new_dataset.head()"
      ],
      "execution_count": null,
      "outputs": [
        {
          "output_type": "execute_result",
          "data": {
            "text/html": [
              "<div>\n",
              "<style scoped>\n",
              "    .dataframe tbody tr th:only-of-type {\n",
              "        vertical-align: middle;\n",
              "    }\n",
              "\n",
              "    .dataframe tbody tr th {\n",
              "        vertical-align: top;\n",
              "    }\n",
              "\n",
              "    .dataframe thead th {\n",
              "        text-align: right;\n",
              "    }\n",
              "</style>\n",
              "<table border=\"1\" class=\"dataframe\">\n",
              "  <thead>\n",
              "    <tr style=\"text-align: right;\">\n",
              "      <th></th>\n",
              "      <th>Time</th>\n",
              "      <th>V1</th>\n",
              "      <th>V2</th>\n",
              "      <th>V3</th>\n",
              "      <th>V4</th>\n",
              "      <th>V5</th>\n",
              "      <th>V6</th>\n",
              "      <th>V7</th>\n",
              "      <th>V8</th>\n",
              "      <th>V9</th>\n",
              "      <th>V10</th>\n",
              "      <th>V11</th>\n",
              "      <th>V12</th>\n",
              "      <th>V13</th>\n",
              "      <th>V14</th>\n",
              "      <th>V15</th>\n",
              "      <th>V16</th>\n",
              "      <th>V17</th>\n",
              "      <th>V18</th>\n",
              "      <th>V19</th>\n",
              "      <th>V20</th>\n",
              "      <th>V21</th>\n",
              "      <th>V22</th>\n",
              "      <th>V23</th>\n",
              "      <th>V24</th>\n",
              "      <th>V25</th>\n",
              "      <th>V26</th>\n",
              "      <th>V27</th>\n",
              "      <th>V28</th>\n",
              "      <th>Amount</th>\n",
              "      <th>Class</th>\n",
              "    </tr>\n",
              "  </thead>\n",
              "  <tbody>\n",
              "    <tr>\n",
              "      <th>209801</th>\n",
              "      <td>137714.0</td>\n",
              "      <td>-0.323257</td>\n",
              "      <td>0.011393</td>\n",
              "      <td>0.773061</td>\n",
              "      <td>-2.210513</td>\n",
              "      <td>0.709319</td>\n",
              "      <td>-1.340951</td>\n",
              "      <td>0.930514</td>\n",
              "      <td>-0.552130</td>\n",
              "      <td>-1.323125</td>\n",
              "      <td>-0.008951</td>\n",
              "      <td>-0.688849</td>\n",
              "      <td>-0.394784</td>\n",
              "      <td>0.775202</td>\n",
              "      <td>-0.520320</td>\n",
              "      <td>-1.067905</td>\n",
              "      <td>0.607488</td>\n",
              "      <td>0.018628</td>\n",
              "      <td>-1.994387</td>\n",
              "      <td>0.115167</td>\n",
              "      <td>0.156381</td>\n",
              "      <td>0.086810</td>\n",
              "      <td>0.324919</td>\n",
              "      <td>-0.214036</td>\n",
              "      <td>0.015388</td>\n",
              "      <td>0.026484</td>\n",
              "      <td>-0.419231</td>\n",
              "      <td>-0.084783</td>\n",
              "      <td>-0.088144</td>\n",
              "      <td>9.57</td>\n",
              "      <td>0</td>\n",
              "    </tr>\n",
              "    <tr>\n",
              "      <th>117758</th>\n",
              "      <td>74798.0</td>\n",
              "      <td>1.481040</td>\n",
              "      <td>-0.312166</td>\n",
              "      <td>-0.405990</td>\n",
              "      <td>-0.769881</td>\n",
              "      <td>-0.406834</td>\n",
              "      <td>-1.125294</td>\n",
              "      <td>-0.044156</td>\n",
              "      <td>-0.373082</td>\n",
              "      <td>-1.099458</td>\n",
              "      <td>0.690384</td>\n",
              "      <td>-0.695410</td>\n",
              "      <td>-0.847223</td>\n",
              "      <td>0.080609</td>\n",
              "      <td>0.110413</td>\n",
              "      <td>0.472627</td>\n",
              "      <td>0.877635</td>\n",
              "      <td>0.234188</td>\n",
              "      <td>-1.423523</td>\n",
              "      <td>0.823300</td>\n",
              "      <td>0.075441</td>\n",
              "      <td>0.157028</td>\n",
              "      <td>0.382257</td>\n",
              "      <td>-0.225832</td>\n",
              "      <td>-0.075383</td>\n",
              "      <td>0.854565</td>\n",
              "      <td>-0.053576</td>\n",
              "      <td>-0.030533</td>\n",
              "      <td>-0.003193</td>\n",
              "      <td>15.00</td>\n",
              "      <td>0</td>\n",
              "    </tr>\n",
              "    <tr>\n",
              "      <th>154810</th>\n",
              "      <td>103114.0</td>\n",
              "      <td>2.034135</td>\n",
              "      <td>-0.033538</td>\n",
              "      <td>-0.837399</td>\n",
              "      <td>0.289100</td>\n",
              "      <td>0.028755</td>\n",
              "      <td>-0.666397</td>\n",
              "      <td>-0.131038</td>\n",
              "      <td>-0.258947</td>\n",
              "      <td>1.793044</td>\n",
              "      <td>-0.306349</td>\n",
              "      <td>0.342537</td>\n",
              "      <td>-2.155138</td>\n",
              "      <td>1.964155</td>\n",
              "      <td>1.718618</td>\n",
              "      <td>0.148335</td>\n",
              "      <td>0.456493</td>\n",
              "      <td>0.084139</td>\n",
              "      <td>-0.479209</td>\n",
              "      <td>-0.133925</td>\n",
              "      <td>-0.159501</td>\n",
              "      <td>-0.609701</td>\n",
              "      <td>-1.595870</td>\n",
              "      <td>0.567793</td>\n",
              "      <td>0.554283</td>\n",
              "      <td>-0.711845</td>\n",
              "      <td>-0.049344</td>\n",
              "      <td>-0.101978</td>\n",
              "      <td>-0.044982</td>\n",
              "      <td>22.93</td>\n",
              "      <td>0</td>\n",
              "    </tr>\n",
              "    <tr>\n",
              "      <th>145769</th>\n",
              "      <td>87184.0</td>\n",
              "      <td>-0.934426</td>\n",
              "      <td>0.300587</td>\n",
              "      <td>-0.632299</td>\n",
              "      <td>-2.802944</td>\n",
              "      <td>1.910548</td>\n",
              "      <td>-1.514880</td>\n",
              "      <td>2.341866</td>\n",
              "      <td>-1.160422</td>\n",
              "      <td>1.224516</td>\n",
              "      <td>0.887327</td>\n",
              "      <td>0.740640</td>\n",
              "      <td>0.218899</td>\n",
              "      <td>-0.819513</td>\n",
              "      <td>-0.401315</td>\n",
              "      <td>-1.651049</td>\n",
              "      <td>-0.634496</td>\n",
              "      <td>-1.288734</td>\n",
              "      <td>-0.363469</td>\n",
              "      <td>-0.463519</td>\n",
              "      <td>0.300588</td>\n",
              "      <td>-0.139745</td>\n",
              "      <td>0.956516</td>\n",
              "      <td>-0.014617</td>\n",
              "      <td>-0.328441</td>\n",
              "      <td>-0.168368</td>\n",
              "      <td>0.458381</td>\n",
              "      <td>0.012157</td>\n",
              "      <td>-0.364024</td>\n",
              "      <td>8.00</td>\n",
              "      <td>0</td>\n",
              "    </tr>\n",
              "    <tr>\n",
              "      <th>166249</th>\n",
              "      <td>117953.0</td>\n",
              "      <td>2.153838</td>\n",
              "      <td>-1.147795</td>\n",
              "      <td>-1.042192</td>\n",
              "      <td>-1.216068</td>\n",
              "      <td>-0.437625</td>\n",
              "      <td>0.550506</td>\n",
              "      <td>-1.172909</td>\n",
              "      <td>0.188025</td>\n",
              "      <td>-0.016176</td>\n",
              "      <td>0.897405</td>\n",
              "      <td>-0.078148</td>\n",
              "      <td>-0.338045</td>\n",
              "      <td>-0.017993</td>\n",
              "      <td>-0.286517</td>\n",
              "      <td>-0.321889</td>\n",
              "      <td>1.633701</td>\n",
              "      <td>-0.437010</td>\n",
              "      <td>-0.326557</td>\n",
              "      <td>1.058049</td>\n",
              "      <td>0.055482</td>\n",
              "      <td>0.315176</td>\n",
              "      <td>0.873641</td>\n",
              "      <td>0.024100</td>\n",
              "      <td>-0.329214</td>\n",
              "      <td>-0.058037</td>\n",
              "      <td>-0.073287</td>\n",
              "      <td>-0.002591</td>\n",
              "      <td>-0.059153</td>\n",
              "      <td>33.00</td>\n",
              "      <td>0</td>\n",
              "    </tr>\n",
              "  </tbody>\n",
              "</table>\n",
              "</div>"
            ],
            "text/plain": [
              "            Time        V1        V2  ...       V28  Amount  Class\n",
              "209801  137714.0 -0.323257  0.011393  ... -0.088144    9.57      0\n",
              "117758   74798.0  1.481040 -0.312166  ... -0.003193   15.00      0\n",
              "154810  103114.0  2.034135 -0.033538  ... -0.044982   22.93      0\n",
              "145769   87184.0 -0.934426  0.300587  ... -0.364024    8.00      0\n",
              "166249  117953.0  2.153838 -1.147795  ... -0.059153   33.00      0\n",
              "\n",
              "[5 rows x 31 columns]"
            ]
          },
          "metadata": {},
          "execution_count": 17
        }
      ]
    },
    {
      "cell_type": "code",
      "metadata": {
        "colab": {
          "base_uri": "https://localhost:8080/",
          "height": 226
        },
        "id": "mgQeboFVbPaE",
        "outputId": "4f87942a-39c4-40b7-9563-ebc4a69d38cc"
      },
      "source": [
        "new_dataset.tail()"
      ],
      "execution_count": null,
      "outputs": [
        {
          "output_type": "execute_result",
          "data": {
            "text/html": [
              "<div>\n",
              "<style scoped>\n",
              "    .dataframe tbody tr th:only-of-type {\n",
              "        vertical-align: middle;\n",
              "    }\n",
              "\n",
              "    .dataframe tbody tr th {\n",
              "        vertical-align: top;\n",
              "    }\n",
              "\n",
              "    .dataframe thead th {\n",
              "        text-align: right;\n",
              "    }\n",
              "</style>\n",
              "<table border=\"1\" class=\"dataframe\">\n",
              "  <thead>\n",
              "    <tr style=\"text-align: right;\">\n",
              "      <th></th>\n",
              "      <th>Time</th>\n",
              "      <th>V1</th>\n",
              "      <th>V2</th>\n",
              "      <th>V3</th>\n",
              "      <th>V4</th>\n",
              "      <th>V5</th>\n",
              "      <th>V6</th>\n",
              "      <th>V7</th>\n",
              "      <th>V8</th>\n",
              "      <th>V9</th>\n",
              "      <th>V10</th>\n",
              "      <th>V11</th>\n",
              "      <th>V12</th>\n",
              "      <th>V13</th>\n",
              "      <th>V14</th>\n",
              "      <th>V15</th>\n",
              "      <th>V16</th>\n",
              "      <th>V17</th>\n",
              "      <th>V18</th>\n",
              "      <th>V19</th>\n",
              "      <th>V20</th>\n",
              "      <th>V21</th>\n",
              "      <th>V22</th>\n",
              "      <th>V23</th>\n",
              "      <th>V24</th>\n",
              "      <th>V25</th>\n",
              "      <th>V26</th>\n",
              "      <th>V27</th>\n",
              "      <th>V28</th>\n",
              "      <th>Amount</th>\n",
              "      <th>Class</th>\n",
              "    </tr>\n",
              "  </thead>\n",
              "  <tbody>\n",
              "    <tr>\n",
              "      <th>279863</th>\n",
              "      <td>169142.0</td>\n",
              "      <td>-1.927883</td>\n",
              "      <td>1.125653</td>\n",
              "      <td>-4.518331</td>\n",
              "      <td>1.749293</td>\n",
              "      <td>-1.566487</td>\n",
              "      <td>-2.010494</td>\n",
              "      <td>-0.882850</td>\n",
              "      <td>0.697211</td>\n",
              "      <td>-2.064945</td>\n",
              "      <td>-5.587794</td>\n",
              "      <td>2.115795</td>\n",
              "      <td>-5.417424</td>\n",
              "      <td>-1.235123</td>\n",
              "      <td>-6.665177</td>\n",
              "      <td>0.401701</td>\n",
              "      <td>-2.897825</td>\n",
              "      <td>-4.570529</td>\n",
              "      <td>-1.315147</td>\n",
              "      <td>0.391167</td>\n",
              "      <td>1.252967</td>\n",
              "      <td>0.778584</td>\n",
              "      <td>-0.319189</td>\n",
              "      <td>0.639419</td>\n",
              "      <td>-0.294885</td>\n",
              "      <td>0.537503</td>\n",
              "      <td>0.788395</td>\n",
              "      <td>0.292680</td>\n",
              "      <td>0.147968</td>\n",
              "      <td>390.00</td>\n",
              "      <td>1</td>\n",
              "    </tr>\n",
              "    <tr>\n",
              "      <th>280143</th>\n",
              "      <td>169347.0</td>\n",
              "      <td>1.378559</td>\n",
              "      <td>1.289381</td>\n",
              "      <td>-5.004247</td>\n",
              "      <td>1.411850</td>\n",
              "      <td>0.442581</td>\n",
              "      <td>-1.326536</td>\n",
              "      <td>-1.413170</td>\n",
              "      <td>0.248525</td>\n",
              "      <td>-1.127396</td>\n",
              "      <td>-3.232153</td>\n",
              "      <td>2.858466</td>\n",
              "      <td>-3.096915</td>\n",
              "      <td>-0.792532</td>\n",
              "      <td>-5.210141</td>\n",
              "      <td>-0.613803</td>\n",
              "      <td>-2.155297</td>\n",
              "      <td>-3.267116</td>\n",
              "      <td>-0.688505</td>\n",
              "      <td>0.737657</td>\n",
              "      <td>0.226138</td>\n",
              "      <td>0.370612</td>\n",
              "      <td>0.028234</td>\n",
              "      <td>-0.145640</td>\n",
              "      <td>-0.081049</td>\n",
              "      <td>0.521875</td>\n",
              "      <td>0.739467</td>\n",
              "      <td>0.389152</td>\n",
              "      <td>0.186637</td>\n",
              "      <td>0.76</td>\n",
              "      <td>1</td>\n",
              "    </tr>\n",
              "    <tr>\n",
              "      <th>280149</th>\n",
              "      <td>169351.0</td>\n",
              "      <td>-0.676143</td>\n",
              "      <td>1.126366</td>\n",
              "      <td>-2.213700</td>\n",
              "      <td>0.468308</td>\n",
              "      <td>-1.120541</td>\n",
              "      <td>-0.003346</td>\n",
              "      <td>-2.234739</td>\n",
              "      <td>1.210158</td>\n",
              "      <td>-0.652250</td>\n",
              "      <td>-3.463891</td>\n",
              "      <td>1.794969</td>\n",
              "      <td>-2.775022</td>\n",
              "      <td>-0.418950</td>\n",
              "      <td>-4.057162</td>\n",
              "      <td>-0.712616</td>\n",
              "      <td>-1.603015</td>\n",
              "      <td>-5.035326</td>\n",
              "      <td>-0.507000</td>\n",
              "      <td>0.266272</td>\n",
              "      <td>0.247968</td>\n",
              "      <td>0.751826</td>\n",
              "      <td>0.834108</td>\n",
              "      <td>0.190944</td>\n",
              "      <td>0.032070</td>\n",
              "      <td>-0.739695</td>\n",
              "      <td>0.471111</td>\n",
              "      <td>0.385107</td>\n",
              "      <td>0.194361</td>\n",
              "      <td>77.89</td>\n",
              "      <td>1</td>\n",
              "    </tr>\n",
              "    <tr>\n",
              "      <th>281144</th>\n",
              "      <td>169966.0</td>\n",
              "      <td>-3.113832</td>\n",
              "      <td>0.585864</td>\n",
              "      <td>-5.399730</td>\n",
              "      <td>1.817092</td>\n",
              "      <td>-0.840618</td>\n",
              "      <td>-2.943548</td>\n",
              "      <td>-2.208002</td>\n",
              "      <td>1.058733</td>\n",
              "      <td>-1.632333</td>\n",
              "      <td>-5.245984</td>\n",
              "      <td>1.933520</td>\n",
              "      <td>-5.030465</td>\n",
              "      <td>-1.127455</td>\n",
              "      <td>-6.416628</td>\n",
              "      <td>0.141237</td>\n",
              "      <td>-2.549498</td>\n",
              "      <td>-4.614717</td>\n",
              "      <td>-1.478138</td>\n",
              "      <td>-0.035480</td>\n",
              "      <td>0.306271</td>\n",
              "      <td>0.583276</td>\n",
              "      <td>-0.269209</td>\n",
              "      <td>-0.456108</td>\n",
              "      <td>-0.183659</td>\n",
              "      <td>-0.328168</td>\n",
              "      <td>0.606116</td>\n",
              "      <td>0.884876</td>\n",
              "      <td>-0.253700</td>\n",
              "      <td>245.00</td>\n",
              "      <td>1</td>\n",
              "    </tr>\n",
              "    <tr>\n",
              "      <th>281674</th>\n",
              "      <td>170348.0</td>\n",
              "      <td>1.991976</td>\n",
              "      <td>0.158476</td>\n",
              "      <td>-2.583441</td>\n",
              "      <td>0.408670</td>\n",
              "      <td>1.151147</td>\n",
              "      <td>-0.096695</td>\n",
              "      <td>0.223050</td>\n",
              "      <td>-0.068384</td>\n",
              "      <td>0.577829</td>\n",
              "      <td>-0.888722</td>\n",
              "      <td>0.491140</td>\n",
              "      <td>0.728903</td>\n",
              "      <td>0.380428</td>\n",
              "      <td>-1.948883</td>\n",
              "      <td>-0.832498</td>\n",
              "      <td>0.519436</td>\n",
              "      <td>0.903562</td>\n",
              "      <td>1.197315</td>\n",
              "      <td>0.593509</td>\n",
              "      <td>-0.017652</td>\n",
              "      <td>-0.164350</td>\n",
              "      <td>-0.295135</td>\n",
              "      <td>-0.072173</td>\n",
              "      <td>-0.450261</td>\n",
              "      <td>0.313267</td>\n",
              "      <td>-0.289617</td>\n",
              "      <td>0.002988</td>\n",
              "      <td>-0.015309</td>\n",
              "      <td>42.53</td>\n",
              "      <td>1</td>\n",
              "    </tr>\n",
              "  </tbody>\n",
              "</table>\n",
              "</div>"
            ],
            "text/plain": [
              "            Time        V1        V2  ...       V28  Amount  Class\n",
              "279863  169142.0 -1.927883  1.125653  ...  0.147968  390.00      1\n",
              "280143  169347.0  1.378559  1.289381  ...  0.186637    0.76      1\n",
              "280149  169351.0 -0.676143  1.126366  ...  0.194361   77.89      1\n",
              "281144  169966.0 -3.113832  0.585864  ... -0.253700  245.00      1\n",
              "281674  170348.0  1.991976  0.158476  ... -0.015309   42.53      1\n",
              "\n",
              "[5 rows x 31 columns]"
            ]
          },
          "metadata": {},
          "execution_count": 18
        }
      ]
    },
    {
      "cell_type": "code",
      "metadata": {
        "colab": {
          "base_uri": "https://localhost:8080/"
        },
        "id": "OfDPlrXnbTja",
        "outputId": "60743229-59cc-48b4-9f81-afd391936e8f"
      },
      "source": [
        "new_dataset['Class'].value_counts()"
      ],
      "execution_count": null,
      "outputs": [
        {
          "output_type": "execute_result",
          "data": {
            "text/plain": [
              "1    492\n",
              "0    492\n",
              "Name: Class, dtype: int64"
            ]
          },
          "metadata": {},
          "execution_count": 19
        }
      ]
    },
    {
      "cell_type": "code",
      "source": [
        "plt.figure(figsize=(7,7))\n",
        "labels=['legitimate', 'fraudulant']\n",
        "plt.pie(new_dataset['Class'].value_counts(),labels= labels)"
      ],
      "metadata": {
        "colab": {
          "base_uri": "https://localhost:8080/",
          "height": 481
        },
        "id": "DI-9hB7g0wdZ",
        "outputId": "181e3235-e43b-43b4-8498-434c889e042e"
      },
      "execution_count": null,
      "outputs": [
        {
          "output_type": "execute_result",
          "data": {
            "text/plain": [
              "([<matplotlib.patches.Wedge at 0x7f588a21b210>,\n",
              "  <matplotlib.patches.Wedge at 0x7f588a21b590>],\n",
              " [Text(6.735557395310444e-17, 1.1, 'legitimate'),\n",
              "  Text(-2.0206672185931328e-16, -1.1, 'fraudulant')])"
            ]
          },
          "metadata": {},
          "execution_count": 20
        },
        {
          "output_type": "display_data",
          "data": {
            "image/png": "[encoded data removed]",
            "text/plain": [
              "<Figure size 504x504 with 1 Axes>"
            ]
          },
          "metadata": {}
        }
      ]
    },
    {
      "cell_type": "code",
      "metadata": {
        "colab": {
          "base_uri": "https://localhost:8080/",
          "height": 163
        },
        "id": "1tlrlxYSbYBi",
        "outputId": "8c581869-fad3-4bf1-b381-b7a2d3cc6f67"
      },
      "source": [
        "new_dataset.groupby('Class').mean()"
      ],
      "execution_count": null,
      "outputs": [
        {
          "output_type": "execute_result",
          "data": {
            "text/html": [
              "<div>\n",
              "<style scoped>\n",
              "    .dataframe tbody tr th:only-of-type {\n",
              "        vertical-align: middle;\n",
              "    }\n",
              "\n",
              "    .dataframe tbody tr th {\n",
              "        vertical-align: top;\n",
              "    }\n",
              "\n",
              "    .dataframe thead th {\n",
              "        text-align: right;\n",
              "    }\n",
              "</style>\n",
              "<table border=\"1\" class=\"dataframe\">\n",
              "  <thead>\n",
              "    <tr style=\"text-align: right;\">\n",
              "      <th></th>\n",
              "      <th>Time</th>\n",
              "      <th>V1</th>\n",
              "      <th>V2</th>\n",
              "      <th>V3</th>\n",
              "      <th>V4</th>\n",
              "      <th>V5</th>\n",
              "      <th>V6</th>\n",
              "      <th>V7</th>\n",
              "      <th>V8</th>\n",
              "      <th>V9</th>\n",
              "      <th>V10</th>\n",
              "      <th>V11</th>\n",
              "      <th>V12</th>\n",
              "      <th>V13</th>\n",
              "      <th>V14</th>\n",
              "      <th>V15</th>\n",
              "      <th>V16</th>\n",
              "      <th>V17</th>\n",
              "      <th>V18</th>\n",
              "      <th>V19</th>\n",
              "      <th>V20</th>\n",
              "      <th>V21</th>\n",
              "      <th>V22</th>\n",
              "      <th>V23</th>\n",
              "      <th>V24</th>\n",
              "      <th>V25</th>\n",
              "      <th>V26</th>\n",
              "      <th>V27</th>\n",
              "      <th>V28</th>\n",
              "      <th>Amount</th>\n",
              "    </tr>\n",
              "    <tr>\n",
              "      <th>Class</th>\n",
              "      <th></th>\n",
              "      <th></th>\n",
              "      <th></th>\n",
              "      <th></th>\n",
              "      <th></th>\n",
              "      <th></th>\n",
              "      <th></th>\n",
              "      <th></th>\n",
              "      <th></th>\n",
              "      <th></th>\n",
              "      <th></th>\n",
              "      <th></th>\n",
              "      <th></th>\n",
              "      <th></th>\n",
              "      <th></th>\n",
              "      <th></th>\n",
              "      <th></th>\n",
              "      <th></th>\n",
              "      <th></th>\n",
              "      <th></th>\n",
              "      <th></th>\n",
              "      <th></th>\n",
              "      <th></th>\n",
              "      <th></th>\n",
              "      <th></th>\n",
              "      <th></th>\n",
              "      <th></th>\n",
              "      <th></th>\n",
              "      <th></th>\n",
              "      <th></th>\n",
              "    </tr>\n",
              "  </thead>\n",
              "  <tbody>\n",
              "    <tr>\n",
              "      <th>0</th>\n",
              "      <td>96618.380081</td>\n",
              "      <td>0.093097</td>\n",
              "      <td>-0.040992</td>\n",
              "      <td>0.058088</td>\n",
              "      <td>0.025632</td>\n",
              "      <td>-0.006393</td>\n",
              "      <td>-0.040183</td>\n",
              "      <td>0.050564</td>\n",
              "      <td>-0.080260</td>\n",
              "      <td>-0.016013</td>\n",
              "      <td>0.010351</td>\n",
              "      <td>0.002469</td>\n",
              "      <td>-0.015240</td>\n",
              "      <td>0.002107</td>\n",
              "      <td>0.008974</td>\n",
              "      <td>0.095127</td>\n",
              "      <td>0.012039</td>\n",
              "      <td>-0.014784</td>\n",
              "      <td>0.055398</td>\n",
              "      <td>-0.008903</td>\n",
              "      <td>0.053557</td>\n",
              "      <td>0.026672</td>\n",
              "      <td>0.030452</td>\n",
              "      <td>-0.026496</td>\n",
              "      <td>-0.014018</td>\n",
              "      <td>-0.019744</td>\n",
              "      <td>0.020988</td>\n",
              "      <td>0.003006</td>\n",
              "      <td>0.001538</td>\n",
              "      <td>99.632195</td>\n",
              "    </tr>\n",
              "    <tr>\n",
              "      <th>1</th>\n",
              "      <td>80746.806911</td>\n",
              "      <td>-4.771948</td>\n",
              "      <td>3.623778</td>\n",
              "      <td>-7.033281</td>\n",
              "      <td>4.542029</td>\n",
              "      <td>-3.151225</td>\n",
              "      <td>-1.397737</td>\n",
              "      <td>-5.568731</td>\n",
              "      <td>0.570636</td>\n",
              "      <td>-2.581123</td>\n",
              "      <td>-5.676883</td>\n",
              "      <td>3.800173</td>\n",
              "      <td>-6.259393</td>\n",
              "      <td>-0.109334</td>\n",
              "      <td>-6.971723</td>\n",
              "      <td>-0.092929</td>\n",
              "      <td>-4.139946</td>\n",
              "      <td>-6.665836</td>\n",
              "      <td>-2.246308</td>\n",
              "      <td>0.680659</td>\n",
              "      <td>0.372319</td>\n",
              "      <td>0.713588</td>\n",
              "      <td>0.014049</td>\n",
              "      <td>-0.040308</td>\n",
              "      <td>-0.105130</td>\n",
              "      <td>0.041449</td>\n",
              "      <td>0.051648</td>\n",
              "      <td>0.170575</td>\n",
              "      <td>0.075667</td>\n",
              "      <td>122.211321</td>\n",
              "    </tr>\n",
              "  </tbody>\n",
              "</table>\n",
              "</div>"
            ],
            "text/plain": [
              "               Time        V1        V2  ...       V27       V28      Amount\n",
              "Class                                    ...                                \n",
              "0      96618.380081  0.093097 -0.040992  ...  0.003006  0.001538   99.632195\n",
              "1      80746.806911 -4.771948  3.623778  ...  0.170575  0.075667  122.211321\n",
              "\n",
              "[2 rows x 30 columns]"
            ]
          },
          "metadata": {},
          "execution_count": 21
        }
      ]
    },
    {
      "cell_type": "code",
      "metadata": {
        "id": "s_pZrXxVeLXE"
      },
      "source": [
        "X = new_dataset.drop(columns='Class', axis=1)  #dropping 'Class' column\n",
        "Y = new_dataset['Class']"
      ],
      "execution_count": null,
      "outputs": []
    },
    {
      "cell_type": "markdown",
      "metadata": {
        "id": "FDK7jZTghsls"
      },
      "source": [
        "**Splitting Dataset**   Train:Test= 80:20"
      ]
    },
    {
      "cell_type": "code",
      "metadata": {
        "id": "ewpaUacxbcPG"
      },
      "source": [
        "X_train, X_test, Y_train, Y_test = train_test_split(X, Y, test_size=0.2, stratify=Y, random_state=2)  #spliting dataset in 80:20\n"
      ],
      "execution_count": null,
      "outputs": []
    },
    {
      "cell_type": "code",
      "metadata": {
        "colab": {
          "base_uri": "https://localhost:8080/"
        },
        "id": "jGF4g74_eNks",
        "outputId": "444c5842-1150-42be-95a9-6f91cdf0bf8e"
      },
      "source": [
        "print(X.shape, X_train.shape, X_test.shape)"
      ],
      "execution_count": null,
      "outputs": [
        {
          "output_type": "stream",
          "name": "stdout",
          "text": [
            "(984, 30) (787, 30) (197, 30)\n"
          ]
        }
      ]
    },
    {
      "cell_type": "markdown",
      "metadata": {
        "id": "kzNB4Kq-hS_s"
      },
      "source": [
        "**Evaluation by Logistic Regression**"
      ]
    },
    {
      "cell_type": "code",
      "metadata": {
        "id": "ub7X0i6oedxu"
      },
      "source": [
        "model = LogisticRegression() #model training"
      ],
      "execution_count": null,
      "outputs": []
    },
    {
      "cell_type": "code",
      "metadata": {
        "colab": {
          "base_uri": "https://localhost:8080/"
        },
        "id": "0G-nrNCveg2E",
        "outputId": "34a3454e-618d-440c-e46d-7962d6a436e9"
      },
      "source": [
        "# training the Logistic Regression Model with Training Data\n",
        "model.fit(X_train, Y_train)"
      ],
      "execution_count": null,
      "outputs": [
        {
          "output_type": "execute_result",
          "data": {
            "text/plain": [
              "LogisticRegression()"
            ]
          },
          "metadata": {},
          "execution_count": 26
        }
      ]
    },
    {
      "cell_type": "code",
      "metadata": {
        "colab": {
          "base_uri": "https://localhost:8080/"
        },
        "id": "oX-FiGuSes6F",
        "outputId": "3bb14114-ea57-473d-8c44-923667370ac2"
      },
      "source": [
        "# evaluation on training data\n",
        "X_train_prediction = model.predict(X_train)\n",
        "\n",
        "print('Evaluation on Training data (Logistic regression)')\n",
        "\n",
        "print(\"Accuracy:\",metrics.accuracy_score(X_train_prediction, Y_train))\n",
        "print(\"Precision:\",metrics.precision_score(X_train_prediction, Y_train))\n",
        "print(\"Recall:\",metrics.recall_score(X_train_prediction, Y_train))\n",
        "print(\"f1-score:\", metrics.f1_score(X_train_prediction, Y_train))\n"
      ],
      "execution_count": null,
      "outputs": [
        {
          "output_type": "stream",
          "name": "stdout",
          "text": [
            "Evaluation on Training data (Logistic regression)\n",
            "Accuracy: 0.9301143583227446\n",
            "Precision: 0.8959390862944162\n",
            "Recall: 0.9618528610354223\n",
            "f1-score: 0.9277266754270695\n"
          ]
        }
      ]
    },
    {
      "cell_type": "code",
      "metadata": {
        "colab": {
          "base_uri": "https://localhost:8080/"
        },
        "id": "859L1S0re4da",
        "outputId": "aa525599-ee8e-4132-a0c8-95a1d38340bb"
      },
      "source": [
        "# evaluation on test data\n",
        "X_test_prediction = model.predict(X_test)\n",
        "\n",
        "print('Evaluation on Test data (Logistic regression)')\n",
        "\n",
        "print(\"Accuracy:\",metrics.accuracy_score(X_test_prediction, Y_test))\n",
        "print(\"Precision:\",metrics.precision_score(X_test_prediction, Y_test))\n",
        "print(\"Recall:\",metrics.recall_score(X_test_prediction, Y_test))\n",
        "print(\"f1-score:\", metrics.f1_score(X_test_prediction, Y_test))\n"
      ],
      "execution_count": null,
      "outputs": [
        {
          "output_type": "stream",
          "name": "stdout",
          "text": [
            "Evaluation on Test data (Logistic regression)\n",
            "Accuracy: 0.9238578680203046\n",
            "Precision: 0.8673469387755102\n",
            "Recall: 0.9770114942528736\n",
            "f1-score: 0.9189189189189189\n"
          ]
        }
      ]
    },
    {
      "cell_type": "markdown",
      "metadata": {
        "id": "X_9Gwfgh6BoE"
      },
      "source": [
        "**Evaluation by KNN Classifier**"
      ]
    },
    {
      "cell_type": "code",
      "metadata": {
        "colab": {
          "base_uri": "https://localhost:8080/"
        },
        "id": "p5kJv58P3R9Z",
        "outputId": "50a0cf95-547a-4cce-c808-680b8b621043"
      },
      "source": [
        "\n",
        "from sklearn.neighbors import KNeighborsClassifier\n",
        "from sklearn import metrics\n",
        "# evaluation on training data\n",
        "knn= KNeighborsClassifier(n_neighbors=3)\n",
        "knn.fit(X_train,Y_train)\n",
        "y_pr = knn.predict(X_train)\n",
        "\n",
        "print('Evalutaion on Training data (KNN)')\n",
        "\n",
        "print(\"Accuracy:\",metrics.accuracy_score(Y_train, y_pr))\n",
        "print(\"Precision:\",metrics.precision_score(Y_train, y_pr))\n",
        "print(\"Recall:\",metrics.recall_score(Y_train, y_pr))\n",
        "print(\"f1-score:\", metrics.f1_score(Y_train, y_pr))"
      ],
      "execution_count": null,
      "outputs": [
        {
          "output_type": "stream",
          "name": "stdout",
          "text": [
            "Evalutaion on Training data (KNN)\n",
            "Accuracy: 0.8017789072426937\n",
            "Precision: 0.8035714285714286\n",
            "Recall: 0.799492385786802\n",
            "f1-score: 0.8015267175572518\n"
          ]
        }
      ]
    },
    {
      "cell_type": "code",
      "metadata": {
        "colab": {
          "base_uri": "https://localhost:8080/"
        },
        "id": "VKkZLVEfpmfv",
        "outputId": "af414536-0e9f-4f30-a924-f16d30c83eaa"
      },
      "source": [
        "# evaluation on test data\n",
        "from sklearn.neighbors import KNeighborsClassifier\n",
        "from sklearn import metrics\n",
        "\n",
        "\n",
        "\n",
        "y_pred = knn.predict(X_test)\n",
        "print('Evalutaion on Testing data (KNN)')\n",
        "\n",
        "print(\"Accuracy:\",metrics.accuracy_score(Y_test, y_pred))\n",
        "print(\"Precision:\",metrics.precision_score(Y_test, y_pred))\n",
        "print(\"Recall:\",metrics.recall_score(Y_test, y_pred))\n",
        "print(\"f1-score:\", metrics.f1_score(Y_test, y_pred))\n",
        "\n"
      ],
      "execution_count": null,
      "outputs": [
        {
          "output_type": "stream",
          "name": "stdout",
          "text": [
            "Evalutaion on Testing data (KNN)\n",
            "Accuracy: 0.700507614213198\n",
            "Precision: 0.7010309278350515\n",
            "Recall: 0.6938775510204082\n",
            "f1-score: 0.6974358974358974\n"
          ]
        }
      ]
    },
    {
      "cell_type": "markdown",
      "metadata": {
        "id": "MnERPCvj6Lqv"
      },
      "source": [
        "**Evaluation by SVM**"
      ]
    },
    {
      "cell_type": "code",
      "metadata": {
        "id": "utDkwByn6ju5"
      },
      "source": [
        "from sklearn import svm\n",
        "clf = svm.SVC() \n",
        "clf.fit(X_train, Y_train)\n",
        "y_pred1 = clf.predict(X_train)"
      ],
      "execution_count": null,
      "outputs": []
    },
    {
      "cell_type": "code",
      "metadata": {
        "colab": {
          "base_uri": "https://localhost:8080/"
        },
        "id": "ixWUNt4m7ZPM",
        "outputId": "7cc689dc-759c-4095-e2d6-e8c1969add20"
      },
      "source": [
        "# evaluation on training data\n",
        "print('Evalutaion on Training data (SVM)')\n",
        "print(\"Accuracy:\",metrics.accuracy_score(Y_train, y_pred1))\n",
        "print(\"Precision:\",metrics.precision_score(Y_train, y_pred1))\n",
        "print(\"Recall:\",metrics.recall_score(Y_train, y_pred1))\n",
        "print(\"f1-score:\", metrics.f1_score(Y_train, y_pred1))"
      ],
      "execution_count": null,
      "outputs": [
        {
          "output_type": "stream",
          "name": "stdout",
          "text": [
            "Evalutaion on Training data (SVM)\n",
            "Accuracy: 0.5374841168996188\n",
            "Precision: 0.5382653061224489\n",
            "Recall: 0.5355329949238579\n",
            "f1-score: 0.5368956743002545\n"
          ]
        }
      ]
    },
    {
      "cell_type": "code",
      "metadata": {
        "colab": {
          "base_uri": "https://localhost:8080/"
        },
        "id": "4vamOuyb-f89",
        "outputId": "8b4fafb6-a2be-4988-abb0-1e1075be6ef9"
      },
      "source": [
        "# evaluation on test data\n",
        "y_pre1 = clf.predict(X_test)\n",
        "print('Evalutaion on Training data (SVM)')\n",
        "print(\"Accuracy:\",metrics.accuracy_score(Y_test, y_pre1))\n",
        "print(\"Precision:\",metrics.precision_score(Y_test, y_pre1))\n",
        "print(\"Recall:\",metrics.recall_score(Y_test, y_pre1))\n",
        "print(\"f1-score:\", metrics.f1_score(Y_test, y_pre1))"
      ],
      "execution_count": null,
      "outputs": [
        {
          "output_type": "stream",
          "name": "stdout",
          "text": [
            "Evalutaion on Training data (SVM)\n",
            "Accuracy: 0.5634517766497462\n",
            "Precision: 0.5666666666666667\n",
            "Recall: 0.5204081632653061\n",
            "f1-score: 0.5425531914893617\n"
          ]
        }
      ]
    },
    {
      "cell_type": "markdown",
      "metadata": {
        "id": "fOvvUGVc_Eck"
      },
      "source": [
        "**Evaluation by Decision Tree**"
      ]
    },
    {
      "cell_type": "code",
      "metadata": {
        "id": "KJMRA9uc_LvO"
      },
      "source": [
        "from sklearn.datasets import make_classification\n",
        "from sklearn.tree import DecisionTreeClassifier\n",
        "cl = DecisionTreeClassifier()"
      ],
      "execution_count": null,
      "outputs": []
    },
    {
      "cell_type": "code",
      "metadata": {
        "colab": {
          "base_uri": "https://localhost:8080/"
        },
        "id": "rc5a1j8qAaI_",
        "outputId": "99f22ff0-2a3e-49d3-a460-668cf1a3f526"
      },
      "source": [
        "# evaluation on training data\n",
        "cl = cl.fit(X_train,Y_train)\n",
        "y_p = cl.predict(X_train)\n",
        "print('Evalutaion on Training data (Decision Tree)')\n",
        "print(\"Accuracy:\",metrics.accuracy_score(Y_train, y_p))\n",
        "print(\"Precision:\",metrics.precision_score(Y_train, y_p))\n",
        "print(\"Recall:\",metrics.recall_score(Y_train, y_p))\n",
        "print(\"f1-score:\", metrics.f1_score(Y_train, y_p))"
      ],
      "execution_count": null,
      "outputs": [
        {
          "output_type": "stream",
          "name": "stdout",
          "text": [
            "Evalutaion on Training data (Decision Tree)\n",
            "Accuracy: 1.0\n",
            "Precision: 1.0\n",
            "Recall: 1.0\n",
            "f1-score: 1.0\n"
          ]
        }
      ]
    },
    {
      "cell_type": "code",
      "metadata": {
        "colab": {
          "base_uri": "https://localhost:8080/"
        },
        "id": "KYxva3QJBBmM",
        "outputId": "87fb5458-6c2e-4055-be53-417eafdcc673"
      },
      "source": [
        "# evaluation on test data\n",
        "\n",
        "y_pt = cl.predict(X_test)\n",
        "print('Evalutaion on Test data (Decision Tree)')\n",
        "print(\"Accuracy:\",metrics.accuracy_score(Y_test, y_pt))\n",
        "print(\"Precision:\",metrics.precision_score(Y_test, y_pt))\n",
        "print(\"Recall:\",metrics.recall_score(Y_test, y_pt))\n",
        "print(\"f1-score:\", metrics.f1_score(Y_test, y_pt))"
      ],
      "execution_count": null,
      "outputs": [
        {
          "output_type": "stream",
          "name": "stdout",
          "text": [
            "Evalutaion on Test data (Decision Tree)\n",
            "Accuracy: 0.8375634517766497\n",
            "Precision: 0.8235294117647058\n",
            "Recall: 0.8571428571428571\n",
            "f1-score: 0.84\n"
          ]
        }
      ]
    },
    {
      "cell_type": "code",
      "source": [
        "from sklearn.datasets import make_classification\n",
        "from sklearn.tree import DecisionTreeClassifier\n",
        "from matplotlib import pyplot\n",
        "\n",
        "X, y = make_classification(n_samples=100, n_features=3, n_informative=2, n_redundant=1, random_state=1)\n",
        "\n",
        "\n",
        "\n",
        "importance = cl.feature_importances_\n",
        "\n",
        "for i,v in enumerate(importance):\n",
        "\tprint('Feature: %0d, Score: %.5f' % (i,v))"
      ],
      "metadata": {
        "colab": {
          "base_uri": "https://localhost:8080/"
        },
        "id": "OWDeIuSC3Iu2",
        "outputId": "e6b073bc-a386-4013-8a27-f289dea4e07c"
      },
      "execution_count": null,
      "outputs": [
        {
          "output_type": "stream",
          "name": "stdout",
          "text": [
            "Feature: 0, Score: 0.00000\n",
            "Feature: 1, Score: 0.00000\n",
            "Feature: 2, Score: 0.01386\n",
            "Feature: 3, Score: 0.00000\n",
            "Feature: 4, Score: 0.04948\n",
            "Feature: 5, Score: 0.00000\n",
            "Feature: 6, Score: 0.00856\n",
            "Feature: 7, Score: 0.00798\n",
            "Feature: 8, Score: 0.01525\n",
            "Feature: 9, Score: 0.00000\n",
            "Feature: 10, Score: 0.02473\n",
            "Feature: 11, Score: 0.01001\n",
            "Feature: 12, Score: 0.01337\n",
            "Feature: 13, Score: 0.00339\n",
            "Feature: 14, Score: 0.76576\n",
            "Feature: 15, Score: 0.00164\n",
            "Feature: 16, Score: 0.00914\n",
            "Feature: 17, Score: 0.00339\n",
            "Feature: 18, Score: 0.00851\n",
            "Feature: 19, Score: 0.00685\n",
            "Feature: 20, Score: 0.01115\n",
            "Feature: 21, Score: 0.00000\n",
            "Feature: 22, Score: 0.00339\n",
            "Feature: 23, Score: 0.02501\n",
            "Feature: 24, Score: 0.00000\n",
            "Feature: 25, Score: 0.01367\n",
            "Feature: 26, Score: 0.00000\n",
            "Feature: 27, Score: 0.00000\n",
            "Feature: 28, Score: 0.00000\n",
            "Feature: 29, Score: 0.00485\n"
          ]
        }
      ]
    },
    {
      "cell_type": "code",
      "source": [
        "import matplotlib.pyplot as plt\n",
        "%matplotlib inline\n",
        "from sklearn import tree\n",
        "plt.figure(figsize=(25,20))\n",
        "tree.plot_tree(cl, filled= True)"
      ],
      "metadata": {
        "colab": {
          "base_uri": "https://localhost:8080/"
        },
        "id": "Ml9_7J3F3hlt",
        "outputId": "7387203e-d953-44c1-bae5-1917565c81ec"
      },
      "execution_count": null,
      "outputs": [
        {
          "output_type": "execute_result",
          "data": {
            "text/plain": [
              "[Text(569.2830882352941, 1050.96, 'X[14] <= -2.277\\ngini = 0.5\\nsamples = 787\\nvalue = [393, 394]'),\n",
              " Text(205.14705882352942, 978.48, 'X[10] <= 3.637\\ngini = 0.034\\nsamples = 345\\nvalue = [6, 339]'),\n",
              " Text(164.11764705882354, 906.0, 'X[11] <= -0.959\\ngini = 0.023\\nsamples = 343\\nvalue = [4, 339]'),\n",
              " Text(123.08823529411765, 833.52, 'gini = 0.0\\nsamples = 1\\nvalue = [1, 0]'),\n",
              " Text(205.14705882352942, 833.52, 'X[12] <= 0.672\\ngini = 0.017\\nsamples = 342\\nvalue = [3, 339]'),\n",
              " Text(164.11764705882354, 761.04, 'X[12] <= -0.467\\ngini = 0.012\\nsamples = 341\\nvalue = [2, 339]'),\n",
              " Text(123.08823529411765, 688.56, 'gini = 0.0\\nsamples = 328\\nvalue = [0, 328]'),\n",
              " Text(205.14705882352942, 688.56, 'X[25] <= 0.782\\ngini = 0.26\\nsamples = 13\\nvalue = [2, 11]'),\n",
              " Text(164.11764705882354, 616.08, 'gini = 0.0\\nsamples = 11\\nvalue = [0, 11]'),\n",
              " Text(246.1764705882353, 616.08, 'gini = 0.0\\nsamples = 2\\nvalue = [2, 0]'),\n",
              " Text(246.1764705882353, 761.04, 'gini = 0.0\\nsamples = 1\\nvalue = [1, 0]'),\n",
              " Text(246.1764705882353, 906.0, 'gini = 0.0\\nsamples = 2\\nvalue = [2, 0]'),\n",
              " Text(933.4191176470589, 978.48, 'X[4] <= 1.632\\ngini = 0.218\\nsamples = 442\\nvalue = [387, 55]'),\n",
              " Text(553.8970588235294, 906.0, 'X[14] <= -1.782\\ngini = 0.133\\nsamples = 392\\nvalue = [364, 28]'),\n",
              " Text(369.2647058823529, 833.52, 'X[2] <= 0.16\\ngini = 0.496\\nsamples = 11\\nvalue = [5, 6]'),\n",
              " Text(328.2352941176471, 761.04, 'gini = 0.0\\nsamples = 6\\nvalue = [0, 6]'),\n",
              " Text(410.29411764705884, 761.04, 'gini = 0.0\\nsamples = 5\\nvalue = [5, 0]'),\n",
              " Text(738.5294117647059, 833.52, 'X[20] <= -0.746\\ngini = 0.109\\nsamples = 381\\nvalue = [359, 22]'),\n",
              " Text(492.3529411764706, 761.04, 'X[18] <= 0.415\\ngini = 0.497\\nsamples = 13\\nvalue = [7, 6]'),\n",
              " Text(451.32352941176475, 688.56, 'gini = 0.0\\nsamples = 4\\nvalue = [0, 4]'),\n",
              " Text(533.3823529411765, 688.56, 'X[16] <= -0.587\\ngini = 0.346\\nsamples = 9\\nvalue = [7, 2]'),\n",
              " Text(492.3529411764706, 616.08, 'X[13] <= 0.444\\ngini = 0.444\\nsamples = 3\\nvalue = [1, 2]'),\n",
              " Text(451.32352941176475, 543.6, 'gini = 0.0\\nsamples = 2\\nvalue = [0, 2]'),\n",
              " Text(533.3823529411765, 543.6, 'gini = 0.0\\nsamples = 1\\nvalue = [1, 0]'),\n",
              " Text(574.4117647058824, 616.08, 'gini = 0.0\\nsamples = 6\\nvalue = [6, 0]'),\n",
              " Text(984.7058823529412, 761.04, 'X[7] <= 2.611\\ngini = 0.083\\nsamples = 368\\nvalue = [352, 16]'),\n",
              " Text(861.6176470588235, 688.56, 'X[23] <= 0.808\\ngini = 0.069\\nsamples = 363\\nvalue = [350, 13]'),\n",
              " Text(738.5294117647059, 616.08, 'X[11] <= 2.199\\ngini = 0.059\\nsamples = 360\\nvalue = [349, 11]'),\n",
              " Text(615.4411764705883, 543.6, 'X[19] <= 2.456\\ngini = 0.054\\nsamples = 358\\nvalue = [348, 10]'),\n",
              " Text(492.3529411764706, 471.12, 'X[29] <= 1048.495\\ngini = 0.049\\nsamples = 356\\nvalue = [347, 9]'),\n",
              " Text(369.2647058823529, 398.64, 'X[14] <= -0.498\\ngini = 0.044\\nsamples = 354\\nvalue = [346, 8]'),\n",
              " Text(246.1764705882353, 326.15999999999997, 'X[14] <= -0.5\\ngini = 0.147\\nsamples = 75\\nvalue = [69, 6]'),\n",
              " Text(205.14705882352942, 253.67999999999995, 'X[11] <= 0.875\\ngini = 0.104\\nsamples = 73\\nvalue = [69, 4]'),\n",
              " Text(123.08823529411765, 181.20000000000005, 'X[6] <= -1.344\\ngini = 0.032\\nsamples = 61\\nvalue = [60, 1]'),\n",
              " Text(82.05882352941177, 108.72000000000003, 'X[29] <= 17.565\\ngini = 0.5\\nsamples = 2\\nvalue = [1, 1]'),\n",
              " Text(41.029411764705884, 36.24000000000001, 'gini = 0.0\\nsamples = 1\\nvalue = [1, 0]'),\n",
              " Text(123.08823529411765, 36.24000000000001, 'gini = 0.0\\nsamples = 1\\nvalue = [0, 1]'),\n",
              " Text(164.11764705882354, 108.72000000000003, 'gini = 0.0\\nsamples = 59\\nvalue = [59, 0]'),\n",
              " Text(287.2058823529412, 181.20000000000005, 'X[12] <= -0.293\\ngini = 0.375\\nsamples = 12\\nvalue = [9, 3]'),\n",
              " Text(246.1764705882353, 108.72000000000003, 'gini = 0.0\\nsamples = 2\\nvalue = [0, 2]'),\n",
              " Text(328.2352941176471, 108.72000000000003, 'X[19] <= 0.652\\ngini = 0.18\\nsamples = 10\\nvalue = [9, 1]'),\n",
              " Text(287.2058823529412, 36.24000000000001, 'gini = 0.0\\nsamples = 9\\nvalue = [9, 0]'),\n",
              " Text(369.2647058823529, 36.24000000000001, 'gini = 0.0\\nsamples = 1\\nvalue = [0, 1]'),\n",
              " Text(287.2058823529412, 253.67999999999995, 'gini = 0.0\\nsamples = 2\\nvalue = [0, 2]'),\n",
              " Text(492.3529411764706, 326.15999999999997, 'X[15] <= 2.055\\ngini = 0.014\\nsamples = 279\\nvalue = [277, 2]'),\n",
              " Text(410.29411764705884, 253.67999999999995, 'X[25] <= 0.668\\ngini = 0.007\\nsamples = 276\\nvalue = [275, 1]'),\n",
              " Text(369.2647058823529, 181.20000000000005, 'gini = 0.0\\nsamples = 259\\nvalue = [259, 0]'),\n",
              " Text(451.32352941176475, 181.20000000000005, 'X[25] <= 0.691\\ngini = 0.111\\nsamples = 17\\nvalue = [16, 1]'),\n",
              " Text(410.29411764705884, 108.72000000000003, 'gini = 0.0\\nsamples = 1\\nvalue = [0, 1]'),\n",
              " Text(492.3529411764706, 108.72000000000003, 'gini = 0.0\\nsamples = 16\\nvalue = [16, 0]'),\n",
              " Text(574.4117647058824, 253.67999999999995, 'X[17] <= 0.426\\ngini = 0.444\\nsamples = 3\\nvalue = [2, 1]'),\n",
              " Text(533.3823529411765, 181.20000000000005, 'gini = 0.0\\nsamples = 1\\nvalue = [0, 1]'),\n",
              " Text(615.4411764705883, 181.20000000000005, 'gini = 0.0\\nsamples = 2\\nvalue = [2, 0]'),\n",
              " Text(615.4411764705883, 398.64, 'X[14] <= 1.019\\ngini = 0.5\\nsamples = 2\\nvalue = [1, 1]'),\n",
              " Text(574.4117647058824, 326.15999999999997, 'gini = 0.0\\nsamples = 1\\nvalue = [0, 1]'),\n",
              " Text(656.4705882352941, 326.15999999999997, 'gini = 0.0\\nsamples = 1\\nvalue = [1, 0]'),\n",
              " Text(738.5294117647059, 471.12, 'X[10] <= 0.185\\ngini = 0.5\\nsamples = 2\\nvalue = [1, 1]'),\n",
              " Text(697.5, 398.64, 'gini = 0.0\\nsamples = 1\\nvalue = [0, 1]'),\n",
              " Text(779.5588235294118, 398.64, 'gini = 0.0\\nsamples = 1\\nvalue = [1, 0]'),\n",
              " Text(861.6176470588235, 543.6, 'X[8] <= 0.014\\ngini = 0.5\\nsamples = 2\\nvalue = [1, 1]'),\n",
              " Text(820.5882352941177, 471.12, 'gini = 0.0\\nsamples = 1\\nvalue = [0, 1]'),\n",
              " Text(902.6470588235295, 471.12, 'gini = 0.0\\nsamples = 1\\nvalue = [1, 0]'),\n",
              " Text(984.7058823529412, 616.08, 'X[22] <= -0.322\\ngini = 0.444\\nsamples = 3\\nvalue = [1, 2]'),\n",
              " Text(943.6764705882354, 543.6, 'gini = 0.0\\nsamples = 1\\nvalue = [1, 0]'),\n",
              " Text(1025.735294117647, 543.6, 'gini = 0.0\\nsamples = 2\\nvalue = [0, 2]'),\n",
              " Text(1107.7941176470588, 688.56, 'X[6] <= 0.76\\ngini = 0.48\\nsamples = 5\\nvalue = [2, 3]'),\n",
              " Text(1066.764705882353, 616.08, 'gini = 0.0\\nsamples = 3\\nvalue = [0, 3]'),\n",
              " Text(1148.8235294117649, 616.08, 'gini = 0.0\\nsamples = 2\\nvalue = [2, 0]'),\n",
              " Text(1312.9411764705883, 906.0, 'X[23] <= 0.29\\ngini = 0.497\\nsamples = 50\\nvalue = [23, 27]'),\n",
              " Text(1271.9117647058824, 833.52, 'X[14] <= 0.144\\ngini = 0.47\\nsamples = 37\\nvalue = [23, 14]'),\n",
              " Text(1230.8823529411766, 761.04, 'X[8] <= -0.127\\ngini = 0.486\\nsamples = 24\\nvalue = [10, 14]'),\n",
              " Text(1189.8529411764707, 688.56, 'gini = 0.0\\nsamples = 9\\nvalue = [0, 9]'),\n",
              " Text(1271.9117647058824, 688.56, 'X[10] <= 0.002\\ngini = 0.444\\nsamples = 15\\nvalue = [10, 5]'),\n",
              " Text(1230.8823529411766, 616.08, 'gini = 0.0\\nsamples = 4\\nvalue = [0, 4]'),\n",
              " Text(1312.9411764705883, 616.08, 'X[16] <= 0.148\\ngini = 0.165\\nsamples = 11\\nvalue = [10, 1]'),\n",
              " Text(1271.9117647058824, 543.6, 'gini = 0.0\\nsamples = 1\\nvalue = [0, 1]'),\n",
              " Text(1353.9705882352941, 543.6, 'gini = 0.0\\nsamples = 10\\nvalue = [10, 0]'),\n",
              " Text(1312.9411764705883, 761.04, 'gini = 0.0\\nsamples = 13\\nvalue = [13, 0]'),\n",
              " Text(1353.9705882352941, 833.52, 'gini = 0.0\\nsamples = 13\\nvalue = [0, 13]')]"
            ]
          },
          "metadata": {},
          "execution_count": 38
        },
        {
          "output_type": "display_data",
          "data": {
            "image/png": "[encoded data removed]",
            "text/plain": [
              "<Figure size 1800x1440 with 1 Axes>"
            ]
          },
          "metadata": {
            "needs_background": "light"
          }
        }
      ]
    },
    {
      "cell_type": "markdown",
      "metadata": {
        "id": "L9vXdOFTB0v8"
      },
      "source": [
        "\n",
        "**Evaluation by Random Forest**"
      ]
    },
    {
      "cell_type": "code",
      "metadata": {
        "id": "hFh-EHo_Df1K"
      },
      "source": [
        "from sklearn.ensemble import RandomForestClassifier\n",
        "\n",
        "model = RandomForestClassifier(n_estimators=200, criterion='gini', min_samples_split=5, min_samples_leaf=2, max_features='auto', bootstrap=True, n_jobs=-1, random_state=42)\n",
        "model.fit(X_train,Y_train)\n",
        "y_pred2 = model.predict(X_train)"
      ],
      "execution_count": null,
      "outputs": []
    },
    {
      "cell_type": "code",
      "source": [
        "#n_estimators=200, criterion='gini', min_samples_split=5, min_samples_leaf=2, max_features='auto', bootstrap=True, n_jobs=-1, random_state=42"
      ],
      "metadata": {
        "id": "qCaamr3tnOuT"
      },
      "execution_count": null,
      "outputs": []
    },
    {
      "cell_type": "code",
      "metadata": {
        "colab": {
          "base_uri": "https://localhost:8080/"
        },
        "id": "xdAPkaHEDyPf",
        "outputId": "71bc6653-5f56-4b11-e12a-5d5e5800cfb1"
      },
      "source": [
        "# evaluation on training data\n",
        "print('Evalutaion on Training data (Random Forest)')\n",
        "print(\"Accuracy:\",metrics.accuracy_score(Y_train, y_pred2))\n",
        "print(\"Precision:\",metrics.precision_score(Y_train, y_pred2))\n",
        "print(\"Recall:\",metrics.recall_score(Y_train, y_pred2))\n",
        "print(\"f1-score:\", metrics.f1_score(Y_train, y_pred2))"
      ],
      "execution_count": null,
      "outputs": [
        {
          "output_type": "stream",
          "name": "stdout",
          "text": [
            "Evalutaion on Training data (Random Forest)\n",
            "Accuracy: 0.98856416772554\n",
            "Precision: 1.0\n",
            "Recall: 0.9771573604060914\n",
            "f1-score: 0.988446726572529\n"
          ]
        }
      ]
    },
    {
      "cell_type": "code",
      "metadata": {
        "colab": {
          "base_uri": "https://localhost:8080/"
        },
        "id": "0COGMOn7E6Dc",
        "outputId": "66f4b55c-c2eb-4bd0-aa86-f7cf03b4fa78"
      },
      "source": [
        "# evaluation on test data\n",
        "y_pre2 = model.predict(X_test)\n",
        "print('Evalutaion on Training data (Random Forest)')\n",
        "\n",
        "print(\"Accuracy:\",metrics.accuracy_score(Y_test, y_pre2))\n",
        "print(\"Precision:\",metrics.precision_score(Y_test, y_pre2))\n",
        "print(\"Recall:\",metrics.recall_score(Y_test, y_pre2))\n",
        "print(\"f1-score:\", metrics.f1_score(Y_test, y_pre2))"
      ],
      "execution_count": null,
      "outputs": [
        {
          "output_type": "stream",
          "name": "stdout",
          "text": [
            "Evalutaion on Training data (Random Forest)\n",
            "Accuracy: 0.9137055837563451\n",
            "Precision: 0.9655172413793104\n",
            "Recall: 0.8571428571428571\n",
            "f1-score: 0.908108108108108\n"
          ]
        }
      ]
    },
    {
      "cell_type": "markdown",
      "source": [
        "**Comparing the performance of various algorithms**"
      ],
      "metadata": {
        "id": "irFXGGmMAb32"
      }
    },
    {
      "cell_type": "code",
      "source": [
        "import matplotlib.pyplot as plt\n",
        "import numpy as np\n",
        "labels=['Accuracy', 'Precision','Recall','F1-score']\n",
        "D_tree=[0.8781725888324873,0.8557692307692307, 0.9081632653061225, 0.8811881188118811]\n",
        "R_forest=[0.9035532994923858,0.9340659340659341,0.8673469387755102, 0.8994708994708994]\n",
        "SVM=[0.5482233502538071,0.5420560747663551, 0.5918367346938775, 0.5658536585365854]\n",
        "KNN=[0.5989847715736041,0.6021505376344086, 0.5714285714285714, 0.5863874345549738]\n",
        "L_Reg=[0.9035532994923858, 0.8571428571428571, 0.9438202247191011, 0.8983957219251337]\n",
        "x=np.arange(len(labels))\n",
        "width=0.16\n",
        "fif, ax=plt.subplots()\n",
        "plt.figure(figsize=(7,7))\n",
        "bar1=ax.bar(x, D_tree,width, label='Decision Tree', color='Blue')\n",
        "bar2=ax.bar(x+width,R_forest, width, label='Random Forest',color='Red')\n",
        "bar3=ax.bar(x+width*2,SVM,width,label='SVM Classifier', color='Green')\n",
        "bar4=ax.bar(x+width*3,KNN,width,label='KNN Classifier', color='Pink')\n",
        "bar5=ax.bar(x+width*4,L_Reg,width,label='Logistic Regression', color='Yellow')\n",
        "ax.set_ylabel('Performance')\n",
        "ax.set_title('Comparing the performance of various algorithms')\n",
        "ax.set_xticks(x)\n",
        "ax.set_xticklabels(labels)\n",
        "ax.legend()\n",
        "plt.show()"
      ],
      "metadata": {
        "colab": {
          "base_uri": "https://localhost:8080/"
        },
        "id": "IIDwj7t04qyy",
        "outputId": "24c93ab7-3a5b-428b-ae89-7b131586e370"
      },
      "execution_count": null,
      "outputs": [
        {
          "output_type": "display_data",
          "data": {
            "image/png": "[encoded data removed]",
            "text/plain": [
              "<Figure size 432x288 with 1 Axes>"
            ]
          },
          "metadata": {
            "needs_background": "light"
          }
        },
        {
          "output_type": "display_data",
          "data": {
            "text/plain": [
              "<Figure size 504x504 with 0 Axes>"
            ]
          },
          "metadata": {}
        }
      ]
    }
  ]
}